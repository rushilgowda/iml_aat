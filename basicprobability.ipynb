{
  "nbformat": 4,
  "nbformat_minor": 0,
  "metadata": {
    "colab": {
      "provenance": [],
      "authorship_tag": "ABX9TyMqIOQYNjTAxncxYJh6YMVl",
      "include_colab_link": true
    },
    "kernelspec": {
      "name": "python3",
      "display_name": "Python 3"
    },
    "language_info": {
      "name": "python"
    }
  },
  "cells": [
    {
      "cell_type": "markdown",
      "metadata": {
        "id": "view-in-github",
        "colab_type": "text"
      },
      "source": [
        "<a href=\"https://colab.research.google.com/github/rushilgowda/iml_aat/blob/main/basicprobability.ipynb\" target=\"_parent\"><img src=\"https://colab.research.google.com/assets/colab-badge.svg\" alt=\"Open In Colab\"/></a>"
      ]
    },
    {
      "cell_type": "code",
      "execution_count": null,
      "metadata": {
        "id": "hAdMApTvGaoj"
      },
      "outputs": [],
      "source": [
        "from fractions import Fraction\n",
        "\n",
        "X = ['w']*5 + ['b']*4\n",
        "Y = ['w']*7 + ['b']*6\n",
        "count=0\n",
        "visited=0\n",
        "\n",
        "for i in X:\n",
        "    tem=Y+[i]\n",
        "    for j in tem:\n",
        "        if j==\"b\":\n",
        "            count+=1\n",
        "        visited+=1\n",
        "\n",
        "print(Fraction(count, visited))"
      ]
    }
  ]
}